{
 "cells": [
  {
   "cell_type": "markdown",
   "metadata": {},
   "source": [
    "# 정규 표현식 사용하기"
   ]
  },
  {
   "cell_type": "code",
   "execution_count": 20,
   "metadata": {},
   "outputs": [],
   "source": [
    "import re\n",
    "\n",
    "def groupRegex(r):\n",
    "    if r:\n",
    "        return r.group()\n",
    "    else:\n",
    "        return None"
   ]
  },
  {
   "cell_type": "code",
   "execution_count": 22,
   "metadata": {
    "tags": []
   },
   "outputs": [
    {
     "output_type": "stream",
     "name": "stdout",
     "text": "Hello\nNone\nHello\n['Hello']\n"
    }
   ],
   "source": [
    "# match\n",
    "r1 = re.match(\"Hello\",\"Hello, world!\")\n",
    "r2 = re.match(\"Python\",\"Hello, world!\")\n",
    "r3 = re.search(\"^Hello\",\"Hello,world\")\n",
    "print(groupRegex(r1))\n",
    "print(groupRegex(r2))\n",
    "print(groupRegex(r3))\n",
    "\n",
    "# findall\n",
    "r4 = re.findall(\"Hello\",\"Hello, world!\")\n",
    "print(r4)"
   ]
  },
  {
   "cell_type": "markdown",
   "metadata": {},
   "source": [
    "### 지정된 문자열이 포함되는지 판단하기\n",
    "\n",
    "* `^` : 문자열이 맨 앞에 오는지\n",
    "* `$` : 문자열이 맨 뒤에 오는지"
   ]
  },
  {
   "cell_type": "code",
   "execution_count": 25,
   "metadata": {
    "tags": []
   },
   "outputs": [
    {
     "output_type": "stream",
     "name": "stdout",
     "text": "Hello\nNone\nworld\n"
    }
   ],
   "source": [
    "r1 = re.search(\"^Hello\",\"Hello,world\")\n",
    "r2 = re.search(\"^Hello\",\"hi,Hello,world\")\n",
    "r3 = re.search(\"world$\",\"Hello, world\")\n",
    "\n",
    "print(groupRegex(r1))\n",
    "print(groupRegex(r2))\n",
    "print(groupRegex(r3))"
   ]
  },
  {
   "cell_type": "markdown",
   "metadata": {},
   "source": [
    "### 문자열이 하나라도 포함되는지\n",
    "* `|` : 문자열이 하나라도 포함되는지"
   ]
  },
  {
   "cell_type": "code",
   "execution_count": 26,
   "metadata": {
    "tags": []
   },
   "outputs": [
    {
     "output_type": "stream",
     "name": "stdout",
     "text": "hello\n"
    }
   ],
   "source": [
    "r1 =re.match(\"hello|world\",\"hello\")\n",
    "print(groupRegex(r1))"
   ]
  },
  {
   "cell_type": "markdown",
   "metadata": {},
   "source": [
    "### 범위 판단하기\n",
    "* `*` : 문자(숫자)가 0개 이상인지\n",
    "* `+` : 문자(숫자)가 1개 이상인지"
   ]
  },
  {
   "cell_type": "code",
   "execution_count": 30,
   "metadata": {
    "tags": []
   },
   "outputs": [
    {
     "output_type": "stream",
     "name": "stdout",
     "text": "1234\n1234\n\n"
    }
   ],
   "source": [
    "r1 = re.match('[0-9]+','1234')\n",
    "r2 = re.match('[0-9]*','1234')\n",
    "r3 = re.match('[0-9]*','abcd')\n",
    "\n",
    "print(groupRegex(r1))\n",
    "print(groupRegex(r2))\n",
    "print(groupRegex(r3))"
   ]
  },
  {
   "cell_type": "code",
   "execution_count": 39,
   "metadata": {
    "tags": []
   },
   "outputs": [
    {
     "output_type": "stream",
     "name": "stdout",
     "text": "b\nNone\naab\naab\n"
    }
   ],
   "source": [
    "r1 = re.match('a*b','b')\n",
    "r2 = re.match('a+b','b')\n",
    "r3 = re.match('a*b','aab')\n",
    "r4 = re.match('a+b','aab')\n",
    "\n",
    "print(groupRegex(r1))\n",
    "print(groupRegex(r2))\n",
    "print(groupRegex(r3))\n",
    "print(groupRegex(r4))"
   ]
  },
  {
   "cell_type": "markdown",
   "metadata": {},
   "source": [
    "### 문자가 한 개만 있는지 판단하기\n",
    "* `?` : 문자가 0개 또는 1개인지\n",
    "* `.` : 문자가 1개인지"
   ]
  },
  {
   "cell_type": "code",
   "execution_count": 41,
   "metadata": {
    "tags": []
   },
   "outputs": [
    {
     "output_type": "stream",
     "name": "stdout",
     "text": "H\nH\nHi\n"
    }
   ],
   "source": [
    "r1 = re.match('H?','H')\n",
    "r2 = re.match('H?','Hi')\n",
    "r3 = re.match('H.','Hi')\n",
    "\n",
    "print(groupRegex(r1))\n",
    "print(groupRegex(r2))\n",
    "print(groupRegex(r3))"
   ]
  },
  {
   "cell_type": "markdown",
   "metadata": {},
   "source": [
    "### 문자 개수 판단하기\n",
    "* `문자{개수}`: \"문자\"가 \"개수\"만큼 있는지\n",
    "* `문자열{개수}`: \"문자열\"이 \"개수\"만큼 있는지\n",
    "* `[0-9]{개수}`: \"숫자\"기 \"개수\"만큼 있는지"
   ]
  },
  {
   "cell_type": "code",
   "execution_count": 47,
   "metadata": {
    "tags": []
   },
   "outputs": [
    {
     "output_type": "stream",
     "name": "stdout",
     "text": "hhh\nhellohellohello\n010-101-0101\n"
    }
   ],
   "source": [
    "r1 = re.match('h{3}','hhhello')\n",
    "r2 = re.match('(hello){3}','hellohellohello')\n",
    "r3 = re.match('[0-9]{3}-[0-9]{3}-[0-9]{4}','010-101-0101')\n",
    "\n",
    "print(groupRegex(r1))\n",
    "print(groupRegex(r2))\n",
    "print(groupRegex(r3))"
   ]
  },
  {
   "cell_type": "markdown",
   "metadata": {},
   "source": [
    "### 숫자와 영문 문자를 조합해서 판단하기\n",
    "* `a-z`: 소문자\n",
    "* `A-Z`: 대문자\n",
    "* `가-힣`: 한글"
   ]
  },
  {
   "cell_type": "code",
   "execution_count": 49,
   "metadata": {
    "tags": []
   },
   "outputs": [
    {
     "output_type": "stream",
     "name": "stdout",
     "text": "Hello1234\nNone\n010-101-0101\n"
    }
   ],
   "source": [
    "r1 = re.match('[a-zA-Z0-9]+','Hello1234')\n",
    "r2 = re.match('[A-Z0-9]+','hello')\n",
    "r3 = re.match('[가-힣]+','홍길동')\n",
    "\n",
    "print(groupRegex(r1))\n",
    "print(groupRegex(r2))\n",
    "print(groupRegex(r3))"
   ]
  }
 ],
 "metadata": {
  "language_info": {
   "codemirror_mode": {
    "name": "ipython",
    "version": 3
   },
   "file_extension": ".py",
   "mimetype": "text/x-python",
   "name": "python",
   "nbconvert_exporter": "python",
   "pygments_lexer": "ipython3",
   "version": "3.8.3-final"
  },
  "orig_nbformat": 2,
  "kernelspec": {
   "name": "python3",
   "display_name": "Python 3"
  }
 },
 "nbformat": 4,
 "nbformat_minor": 2
}