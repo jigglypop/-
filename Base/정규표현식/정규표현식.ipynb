{
 "cells": [
  {
   "cell_type": "markdown",
   "metadata": {},
   "source": [
    "# 정규 표현식 사용하기"
   ]
  },
  {
   "cell_type": "code",
   "execution_count": 5,
   "metadata": {},
   "outputs": [],
   "source": [
    "import re\n",
    "re.match(\"Hello\",\"Hello, world!\")\n"
   ]
  },
  {
   "cell_type": "code",
   "execution_count": 4,
   "metadata": {},
   "outputs": [
    {
     "output_type": "execute_result",
     "data": {
      "text/plain": "<re.Match object; span=(0, 5), match='Hello'>"
     },
     "metadata": {},
     "execution_count": 4
    }
   ],
   "source": [
    "re.match(\"Python\",\"Hello, world!\")\n",
    "re.search(\"^Hello\",\"Hello,world\")"
   ]
  },
  {
   "cell_type": "markdown",
   "metadata": {},
   "source": [
    "### 지정된 문자열이 포함되는지\n",
    "\n",
    "* `^` : 문자열이 맨 앞에 오는지\n",
    "* `$` : 문자열이 맨 뒤에 오는지"
   ]
  },
  {
   "cell_type": "code",
   "execution_count": 6,
   "metadata": {},
   "outputs": [
    {
     "output_type": "execute_result",
     "data": {
      "text/plain": "<re.Match object; span=(0, 5), match='Hello'>"
     },
     "metadata": {},
     "execution_count": 6
    }
   ],
   "source": [
    "print(re.search(\"^Hello\",\"Hello,world\"))\n",
    "print(re.search(\"^Hello\",\"hi,Hello,world\"))\n",
    "print(re.search(\"world$\",\"Hello, world\"))"
   ]
  },
  {
   "cell_type": "code",
   "execution_count": 8,
   "metadata": {},
   "outputs": [],
   "source": []
  },
  {
   "cell_type": "code",
   "execution_count": 11,
   "metadata": {},
   "outputs": [
    {
     "output_type": "execute_result",
     "data": {
      "text/plain": "<re.Match object; span=(7, 12), match='world'>"
     },
     "metadata": {},
     "execution_count": 11
    }
   ],
   "source": []
  },
  {
   "cell_type": "markdown",
   "metadata": {},
   "source": [
    "### 문자열이 하나라도 포함되는지\n",
    "* `|` : 문자열이 하나라도 포함되는지"
   ]
  },
  {
   "cell_type": "code",
   "execution_count": 14,
   "metadata": {},
   "outputs": [
    {
     "output_type": "execute_result",
     "data": {
      "text/plain": "<re.Match object; span=(0, 5), match='hello'>"
     },
     "metadata": {},
     "execution_count": 14
    }
   ],
   "source": [
    "re.match(\"hello|world\",\"hello\")"
   ]
  },
  {
   "cell_type": "code",
   "execution_count": 25,
   "metadata": {},
   "outputs": [
    {
     "output_type": "stream",
     "name": "stdout",
     "text": "<re.Match object; span=(0, 4), match='1234'>\n<re.Match object; span=(0, 4), match='1234'>\n"
    }
   ],
   "source": [
    "print(re.match('[0-9]+','1234'))\n",
    "print(re.match('[0-9]*','1234'))"
   ]
  }
 ],
 "metadata": {
  "language_info": {
   "codemirror_mode": {
    "name": "ipython",
    "version": 3
   },
   "file_extension": ".py",
   "mimetype": "text/x-python",
   "name": "python",
   "nbconvert_exporter": "python",
   "pygments_lexer": "ipython3",
   "version": "3.7.6-final"
  },
  "orig_nbformat": 2,
  "kernelspec": {
   "name": "python3",
   "display_name": "Python 3"
  }
 },
 "nbformat": 4,
 "nbformat_minor": 2
}