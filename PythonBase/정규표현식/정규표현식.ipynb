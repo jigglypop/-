{
 "cells": [
  {
   "cell_type": "markdown",
   "metadata": {},
   "source": [
    "# 정규 표현식 사용하기"
   ]
  },
  {
   "cell_type": "code",
   "execution_count": 1,
   "metadata": {},
   "outputs": [],
   "source": [
    "import re\n",
    "\n",
    "def groupRegex(r):\n",
    "    if r:\n",
    "        return r.group()\n",
    "    else:\n",
    "        return None"
   ]
  },
  {
   "cell_type": "code",
   "execution_count": 2,
   "metadata": {
    "tags": []
   },
   "outputs": [
    {
     "output_type": "stream",
     "name": "stdout",
     "text": "Hello\nNone\nHello\n['Hello']\n"
    }
   ],
   "source": [
    "# match\n",
    "r1 = re.match(\"Hello\",\"Hello, world!\")\n",
    "r2 = re.match(\"Python\",\"Hello, world!\")\n",
    "r3 = re.search(\"^Hello\",\"Hello,world\")\n",
    "print(groupRegex(r1))\n",
    "print(groupRegex(r2))\n",
    "print(groupRegex(r3))\n",
    "\n",
    "# findall\n",
    "r4 = re.findall(\"Hello\",\"Hello, world!\")\n",
    "print(r4)"
   ]
  },
  {
   "cell_type": "markdown",
   "metadata": {},
   "source": [
    "### 지정된 문자열이 포함되는지 판단하기\n",
    "\n",
    "* `^` : 문자열이 맨 앞에 오는지\n",
    "* `$` : 문자열이 맨 뒤에 오는지"
   ]
  },
  {
   "cell_type": "code",
   "execution_count": 3,
   "metadata": {
    "tags": []
   },
   "outputs": [
    {
     "output_type": "stream",
     "name": "stdout",
     "text": "Hello\nNone\nworld\n"
    }
   ],
   "source": [
    "r1 = re.search(\"^Hello\",\"Hello,world\")\n",
    "r2 = re.search(\"^Hello\",\"hi,Hello,world\")\n",
    "r3 = re.search(\"world$\",\"Hello, world\")\n",
    "\n",
    "print(groupRegex(r1))\n",
    "print(groupRegex(r2))\n",
    "print(groupRegex(r3))"
   ]
  },
  {
   "cell_type": "markdown",
   "metadata": {},
   "source": [
    "### 문자열이 하나라도 포함되는지\n",
    "* `|` : 문자열이 하나라도 포함되는지"
   ]
  },
  {
   "cell_type": "code",
   "execution_count": 4,
   "metadata": {
    "tags": []
   },
   "outputs": [
    {
     "output_type": "stream",
     "name": "stdout",
     "text": "hello\n"
    }
   ],
   "source": [
    "r1 =re.match(\"hello|world\",\"hello\")\n",
    "print(groupRegex(r1))"
   ]
  },
  {
   "cell_type": "markdown",
   "metadata": {},
   "source": [
    "### 범위 판단하기\n",
    "* `*` : 문자(숫자)가 0개 이상인지\n",
    "* `+` : 문자(숫자)가 1개 이상인지"
   ]
  },
  {
   "cell_type": "code",
   "execution_count": 5,
   "metadata": {
    "tags": []
   },
   "outputs": [
    {
     "output_type": "stream",
     "name": "stdout",
     "text": "1234\n1234\n\n"
    }
   ],
   "source": [
    "r1 = re.match('[0-9]+','1234')\n",
    "r2 = re.match('[0-9]*','1234')\n",
    "r3 = re.match('[0-9]*','abcd')\n",
    "\n",
    "print(groupRegex(r1))\n",
    "print(groupRegex(r2))\n",
    "print(groupRegex(r3))"
   ]
  },
  {
   "cell_type": "code",
   "execution_count": 51,
   "metadata": {
    "tags": []
   },
   "outputs": [
    {
     "output_type": "stream",
     "name": "stdout",
     "text": "b\nNone\naab\naab\n"
    }
   ],
   "source": [
    "r1 = re.match('a*b','b')\n",
    "r2 = re.match('a+b','b')\n",
    "r3 = re.match('a*b','aab')\n",
    "r4 = re.match('a+b','aab')\n",
    "\n",
    "print(groupRegex(r1))\n",
    "print(groupRegex(r2))\n",
    "print(groupRegex(r3))\n",
    "print(groupRegex(r4))"
   ]
  },
  {
   "cell_type": "markdown",
   "metadata": {},
   "source": [
    "### 문자가 한 개만 있는지 판단하기\n",
    "* `?` : 문자가 0개 또는 1개인지\n",
    "* `.` : 문자가 1개인지"
   ]
  },
  {
   "cell_type": "code",
   "execution_count": 7,
   "metadata": {
    "tags": []
   },
   "outputs": [
    {
     "output_type": "stream",
     "name": "stdout",
     "text": "H\nH\nHi\n"
    }
   ],
   "source": [
    "r1 = re.match('H?','H')\n",
    "r2 = re.match('H?','Hi')\n",
    "r3 = re.match('H.','Hi')\n",
    "\n",
    "print(groupRegex(r1))\n",
    "print(groupRegex(r2))\n",
    "print(groupRegex(r3))"
   ]
  },
  {
   "cell_type": "markdown",
   "metadata": {},
   "source": [
    "### 문자 개수 판단하기\n",
    "* `문자{개수}`: \"문자\"가 \"개수\"만큼 있는지\n",
    "* `문자열{개수}`: \"문자열\"이 \"개수\"만큼 있는지\n",
    "* `[0-9]{개수}`: \"숫자\"기 \"개수\"만큼 있는지"
   ]
  },
  {
   "cell_type": "code",
   "execution_count": 8,
   "metadata": {
    "tags": []
   },
   "outputs": [
    {
     "output_type": "stream",
     "name": "stdout",
     "text": "hhh\nhellohellohello\n010-101-0101\n"
    }
   ],
   "source": [
    "r1 = re.match('h{3}','hhhello')\n",
    "r2 = re.match('(hello){3}','hellohellohello')\n",
    "r3 = re.match('[0-9]{3}-[0-9]{3}-[0-9]{4}','010-101-0101')\n",
    "\n",
    "print(groupRegex(r1))\n",
    "print(groupRegex(r2))\n",
    "print(groupRegex(r3))"
   ]
  },
  {
   "cell_type": "markdown",
   "metadata": {},
   "source": [
    "### 숫자와 영문 문자를 조합해서 판단하기\n",
    "* `a-z`: 소문자\n",
    "* `A-Z`: 대문자\n",
    "* `가-힣`: 한글"
   ]
  },
  {
   "cell_type": "code",
   "execution_count": 9,
   "metadata": {
    "tags": []
   },
   "outputs": [
    {
     "output_type": "stream",
     "name": "stdout",
     "text": "Hello1234\nNone\n홍길동\n"
    }
   ],
   "source": [
    "r1 = re.match('[a-zA-Z0-9]+','Hello1234')\n",
    "r2 = re.match('[A-Z0-9]+','hello')\n",
    "r3 = re.match('[가-힣]+','홍길동')\n",
    "\n",
    "print(groupRegex(r1))\n",
    "print(groupRegex(r2))\n",
    "print(groupRegex(r3))"
   ]
  },
  {
   "cell_type": "markdown",
   "metadata": {},
   "source": [
    "### 특정 문자 범위에 포함되지 않는지\n",
    "\n",
    "* `[^범위]*`\n",
    "* `[^범위]+`"
   ]
  },
  {
   "cell_type": "code",
   "execution_count": 60,
   "metadata": {
    "tags": []
   },
   "outputs": [
    {
     "output_type": "stream",
     "name": "stdout",
     "text": "hello\nhello\n"
    }
   ],
   "source": [
    "r1 = re.search(\"[^A-Z]*\",'hello')\n",
    "r2 = re.search(\"[^A-Z]+\",'hello')\n",
    "\n",
    "print(groupRegex(r1))\n",
    "print(groupRegex(r2))"
   ]
  },
  {
   "cell_type": "markdown",
   "metadata": {},
   "source": [
    "### 특정 문자 범위로 끝나는지\n",
    "\n",
    "* `[범위]*$`\n",
    "* `[범위]*+`"
   ]
  },
  {
   "cell_type": "code",
   "execution_count": 18,
   "metadata": {
    "tags": []
   },
   "outputs": [
    {
     "output_type": "stream",
     "name": "stdout",
     "text": "1234\n"
    }
   ],
   "source": [
    "r1 = re.search(\"[0-9]+$\",'Hello1234')\n",
    "\n",
    "print(groupRegex(r1))"
   ]
  },
  {
   "cell_type": "markdown",
   "metadata": {},
   "source": [
    "### 특수 문자 판단하기\n",
    "\n",
    "* `\\특수문자` :  특수 문자 판단\n",
    "* `\\d` : 모든 숫자\n",
    "* `\\D` : 숫자가 아닌 모든 문자\n",
    "* `\\w` : 영문 대소문자, 숫자, 밑줄 문자\n",
    "* `\\D` : 영문 대소문자, 숫자, 밑줄 문자가 아닌 모든 문자\n"
   ]
  },
  {
   "cell_type": "code",
   "execution_count": 27,
   "metadata": {
    "tags": []
   },
   "outputs": [
    {
     "output_type": "stream",
     "name": "stdout",
     "text": "**\n1234\nNone\nHello\nHello_1234\n"
    }
   ],
   "source": [
    "r1 = re.search('\\*+',\"1 ** 2\")\n",
    "r2 = re.search('\\d+','1234')\n",
    "r3 = re.search('\\D+','1234')\n",
    "r4 = re.search('\\D+','Hello')\n",
    "r5 = re.search('\\w+','Hello_1234')\n",
    "\n",
    "print(groupRegex(r1))\n",
    "print(groupRegex(r2))\n",
    "print(groupRegex(r3))\n",
    "print(groupRegex(r4))\n",
    "print(groupRegex(r5))"
   ]
  },
  {
   "cell_type": "markdown",
   "metadata": {},
   "source": [
    "### 공백 처리하기\n",
    "\n",
    "* `\\s` : 공백,  \\t, \\n, \\r, \\f, \\v 을 포함\n",
    "* `\\S` : 공백을 제외하고 \\t, \\n, \\r, \\f, \\v만 포함"
   ]
  },
  {
   "cell_type": "code",
   "execution_count": 35,
   "metadata": {
    "tags": []
   },
   "outputs": [
    {
     "output_type": "stream",
     "name": "stdout",
     "text": "Hello 1234\nHello 1234\n"
    }
   ],
   "source": [
    "r1 = re.search('[a-zA-Z0-9 ]+',\"Hello 1234\")\n",
    "r2 = re.search('[a-zA-Z0-9\\s]+',\"Hello 1234\")\n",
    "\n",
    "print(groupRegex(r1))\n",
    "print(groupRegex(r2))"
   ]
  },
  {
   "cell_type": "markdown",
   "metadata": {},
   "source": [
    "### 그룹 사용하기\n",
    "\n",
    "* `(정규 표현식) (정규 표현식)`\n",
    "* `매치객체.group(숫자)` : 그룹에 해당하는 문자열(숫자)를 가져옴\n",
    "* `매치객체.groups()` : 그룹에 해당하는 문자열(숫자)을 튜플로 반환\n",
    "* `(?P<이름>정규표현식)` ->  `매치객체.group('그룹이름')`: 그룹에 이름을 지은 뒤 반환\n"
   ]
  },
  {
   "cell_type": "code",
   "execution_count": 41,
   "metadata": {
    "tags": []
   },
   "outputs": [
    {
     "output_type": "stream",
     "name": "stdout",
     "text": "10\n123\n10 123\n10 123\n('10', '123')\n"
    }
   ],
   "source": [
    "r1 = re.match('([0-9]+) ([0-9]+)','10 123')\n",
    "print(r1.group(1))\n",
    "print(r1.group(2))\n",
    "print(r1.group())\n",
    "print(r1.group(0))\n",
    "print(r1.groups())"
   ]
  },
  {
   "cell_type": "code",
   "execution_count": 42,
   "metadata": {
    "tags": []
   },
   "outputs": [
    {
     "output_type": "stream",
     "name": "stdout",
     "text": "print\n1234\n"
    }
   ],
   "source": [
    "r1 = re.match('(?P<func>[a-zA-Z_][a-zA-Z0-9_]+)\\((?P<arg>\\w+)\\)','print(1234)')\n",
    "print(r1.group('func'))\n",
    "print(r1.group('arg'))"
   ]
  },
  {
   "cell_type": "markdown",
   "metadata": {},
   "source": [
    "### 패턴에 매칭되는 모든 문자열 가져오기\n",
    "\n",
    "* `re.findall('패턴','문자열')`"
   ]
  },
  {
   "cell_type": "code",
   "execution_count": 45,
   "metadata": {
    "tags": []
   },
   "outputs": [
    {
     "output_type": "stream",
     "name": "stdout",
     "text": "['1', '2', '4', '7', '8']\n"
    }
   ],
   "source": [
    "r1 = re.findall('[0-9]+','1 2 Fizz 4 Buzz Fizz 7 8')\n",
    "print(r1)"
   ]
  },
  {
   "cell_type": "markdown",
   "metadata": {},
   "source": [
    "### 문자열 바꾸기\n",
    "\n",
    "* `re.sub('패턴','바꿀 문자열','문자열',바꿀 횟수)` \n",
    "* `re.sub('패턴',교체함수,'문자열',바꿀 횟수)` \n"
   ]
  },
  {
   "cell_type": "code",
   "execution_count": 48,
   "metadata": {
    "tags": []
   },
   "outputs": [
    {
     "output_type": "stream",
     "name": "stdout",
     "text": "fruit box fruit tree\n10 20 Fizz 40 Buzz Fizz 70 80\n"
    }
   ],
   "source": [
    "r1 = re.sub('apple|orange','fruit','apple box orange tree')\n",
    "r2 = re.sub('[0-9]+',lambda m: str(int(m.group()) * 10),'1 2 Fizz 4 Buzz Fizz 7 8')\n",
    "\n",
    "print(r1)\n",
    "print(r2)"
   ]
  }
 ],
 "metadata": {
  "language_info": {
   "codemirror_mode": {
    "name": "ipython",
    "version": 3
   },
   "file_extension": ".py",
   "mimetype": "text/x-python",
   "name": "python",
   "nbconvert_exporter": "python",
   "pygments_lexer": "ipython3",
   "version": "3.8.3-final"
  },
  "orig_nbformat": 2,
  "kernelspec": {
   "name": "python3",
   "display_name": "Python 3"
  }
 },
 "nbformat": 4,
 "nbformat_minor": 2
}